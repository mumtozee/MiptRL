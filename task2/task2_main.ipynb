{
 "cells": [
  {
   "cell_type": "markdown",
   "metadata": {},
   "source": [
    "# Марковский процесс принятия решений\n",
    "\n",
    "#### дедлайн (жёсткий) задания: 3 апреля, 23:59 UTC+3\n",
    "\n",
    "#### при сдаче задания нужно данный файл послать в систему сдачи\n",
    "\n",
    "В данной работе рассматриваются методы, разработанные для решения Марковских процессов принятия решений, **M**arkov **D**ecision **P**rocesses, **MDP**. В самом широком смысле, MDP определяется тем, как он изменяет состояния и как вычисляются награды.\n",
    "\n",
    "Переход состояний определяется распределением $P(s' |s,a)$ &mdash; насколько вероятно перейти в состояние $s'$, если производится действие $a$ в состоянии $s$. Существует несколько способов определить функцию вознаграждений, однако ради удобства будет использована следующая сигнатура: $r(s,a,s')$."
   ]
  },
  {
   "cell_type": "markdown",
   "metadata": {},
   "source": [
    "# Работу выполнил: Ахмаджонов Мумтозбек Козимжон Угли, М05-317."
   ]
  },
  {
   "cell_type": "markdown",
   "metadata": {},
   "source": [
    "Для начала, давайте определим простой MDP, изображённый на рисунке ниже:\n",
    "\n",
    "<img src=\"https://upload.wikimedia.org/wikipedia/commons/a/ad/Markov_Decision_Process.svg\" width=\"400px\" alt=\"Diagram by Waldoalvarez via Wikimedia Commons, CC BY-SA 4.0\"/>"
   ]
  },
  {
   "cell_type": "code",
   "execution_count": 1,
   "metadata": {},
   "outputs": [],
   "source": [
    "import typing as tp"
   ]
  },
  {
   "cell_type": "code",
   "execution_count": 2,
   "metadata": {},
   "outputs": [],
   "source": [
    "transition_probs = {\n",
    "    \"s0\": {\"a0\": {\"s0\": 0.5, \"s2\": 0.5}, \"a1\": {\"s2\": 1}},\n",
    "    \"s1\": {\"a0\": {\"s0\": 0.7, \"s1\": 0.1, \"s2\": 0.2}, \"a1\": {\"s1\": 0.95, \"s2\": 0.05}},\n",
    "    \"s2\": {\"a0\": {\"s0\": 0.4, \"s2\": 0.6}, \"a1\": {\"s0\": 0.3, \"s1\": 0.3, \"s2\": 0.4}},\n",
    "}\n",
    "rewards = {\"s1\": {\"a0\": {\"s0\": +5}}, \"s2\": {\"a1\": {\"s0\": -1}}}\n",
    "\n",
    "from mdp import MDP\n",
    "\n",
    "mdp = MDP(transition_probs, rewards, initial_state=\"s0\")"
   ]
  },
  {
   "cell_type": "markdown",
   "metadata": {},
   "source": [
    "Теперь можно использовать MDP как и другие среды от Open AI Gym:"
   ]
  },
  {
   "cell_type": "code",
   "execution_count": 3,
   "metadata": {},
   "outputs": [
    {
     "name": "stdout",
     "output_type": "stream",
     "text": [
      "initial state = s0\n",
      "next_state = s2, reward = 0.0, done = False\n"
     ]
    }
   ],
   "source": [
    "print(\"initial state =\", mdp.reset())\n",
    "next_state, reward, done, info = mdp.step(\"a1\")\n",
    "print(\"next_state = %s, reward = %s, done = %s\" % (next_state, reward, done))"
   ]
  },
  {
   "cell_type": "markdown",
   "metadata": {},
   "source": [
    "но также есть и другие методы, необходимые для имплементации алгоритма итерацонной оптимизации ценности (Value Iteration)"
   ]
  },
  {
   "cell_type": "code",
   "execution_count": 4,
   "metadata": {},
   "outputs": [
    {
     "name": "stdout",
     "output_type": "stream",
     "text": [
      "mdp.get_all_states = ('s0', 's1', 's2')\n",
      "mdp.get_possible_actions('s1') =  ('a0', 'a1')\n",
      "mdp.get_next_states('s1', 'a0') =  {'s0': 0.7, 's1': 0.1, 's2': 0.2}\n",
      "mdp.get_reward('s1', 'a0', 's0') =  5\n",
      "mdp.get_transition_prob('s1', 'a0', 's0') =  0.7\n"
     ]
    }
   ],
   "source": [
    "print(\"mdp.get_all_states =\", mdp.get_all_states())\n",
    "print(\"mdp.get_possible_actions('s1') = \", mdp.get_possible_actions(\"s1\"))\n",
    "print(\"mdp.get_next_states('s1', 'a0') = \", mdp.get_next_states(\"s1\", \"a0\"))\n",
    "print(\"mdp.get_reward('s1', 'a0', 's0') = \", mdp.get_reward(\"s1\", \"a0\", \"s0\"))\n",
    "print(\n",
    "    \"mdp.get_transition_prob('s1', 'a0', 's0') = \",\n",
    "    mdp.get_transition_prob(\"s1\", \"a0\", \"s0\"),\n",
    ")"
   ]
  },
  {
   "cell_type": "markdown",
   "metadata": {},
   "source": [
    "### Опционально: визуализация MDP\n",
    "\n",
    "Вы можете визуализировать MDP с помощью функции отрисовки, написанной [neer201](https://github.com/neer201).\n",
    "\n",
    "Для этого требуется установить graphviz системно и для Python. На Unix-подобных системах (Ubuntu) для этого достатчно выполнить следующие команды:\n",
    "\n",
    "1. `sudo apt-get install graphviz`\n",
    "2. `pip install graphviz`\n",
    "3. перезагрузить этот ноутбук\n",
    "\n",
    "__Замечание:__ Установка graphviz на некоторые ОС (особенно Windows) может быть нетривиальной. Поэтому можно пропусить данный шаг и использовать стандартную визуализацию."
   ]
  },
  {
   "cell_type": "code",
   "execution_count": 5,
   "metadata": {},
   "outputs": [
    {
     "name": "stdout",
     "output_type": "stream",
     "text": [
      "Graphviz доступен: False\n"
     ]
    }
   ],
   "source": [
    "from mdp import has_graphviz\n",
    "from IPython.display import display\n",
    "\n",
    "print(\"Graphviz доступен:\", has_graphviz)"
   ]
  },
  {
   "cell_type": "code",
   "execution_count": 6,
   "metadata": {
    "scrolled": false
   },
   "outputs": [],
   "source": [
    "if has_graphviz:\n",
    "    from mdp import (\n",
    "        plot_graph,\n",
    "        plot_graph_with_state_values,\n",
    "        plot_graph_optimal_strategy_and_state_values,\n",
    "    )\n",
    "\n",
    "    display(plot_graph(mdp))"
   ]
  },
  {
   "cell_type": "markdown",
   "metadata": {},
   "source": [
    "# Итерационная оптимизация ценности, Value Iteration (вплоть до 4 баллов)\n",
    "\n",
    "Теперь построим первый способ решения MDP. Простейший на данный момент алгоритм называется итерационной оптимизацией ценности или __V__alue __I__teration\n",
    "\n",
    "Ниже представлен псевдокод VI:\n",
    "\n",
    "---\n",
    "\n",
    "`1.` Инициализация $V^{(0)}(s)=0$, for all $s$\n",
    "\n",
    "`2.` Для $i=0, 1, 2, \\dots$\n",
    " \n",
    "`3.` $ \\quad V_{(i+1)}(s) = \\max_a \\sum_{s'} P(s' | s,a) \\cdot [ r(s,a,s') + \\gamma V_{i}(s')]$, для всех $s$\n",
    "\n",
    "---"
   ]
  },
  {
   "cell_type": "markdown",
   "metadata": {},
   "source": [
    "Для начала выпишем функцию вычисления $Q$-функции ценности $Q^{\\pi}$, определив следующим образом\n",
    "\n",
    "$$Q_i(s, a) = \\sum_{s'} P(s' | s,a) \\cdot [ r(s,a,s') + \\gamma V_{i}(s')]$$\n"
   ]
  },
  {
   "cell_type": "code",
   "execution_count": 7,
   "metadata": {},
   "outputs": [],
   "source": [
    "# %%writefile mdp_get_action_value.py\n",
    "def get_action_value(\n",
    "    mdp: MDP, state_values: tp.Dict[str, float], state: str, action: str, gamma: float\n",
    ") -> float:\n",
    "    \"\"\"Вычисляет Q(s,a) согласно формуле выше\"\"\"\n",
    "    Q = 0.0\n",
    "    all_states = mdp.get_all_states()\n",
    "    for s in all_states:\n",
    "        P = mdp.get_transition_prob(state, action, s)\n",
    "        r = mdp.get_reward(state, action, s)\n",
    "        V = state_values[s]\n",
    "        Q += P * (r + gamma * V)\n",
    "    return Q"
   ]
  },
  {
   "cell_type": "code",
   "execution_count": 8,
   "metadata": {},
   "outputs": [],
   "source": [
    "# from mdp_get_action_value import *"
   ]
  },
  {
   "cell_type": "code",
   "execution_count": 9,
   "metadata": {},
   "outputs": [],
   "source": [
    "import numpy as np\n",
    "\n",
    "test_Vs = {s: i for i, s in enumerate(sorted(mdp.get_all_states()))}\n",
    "assert np.isclose(get_action_value(mdp, test_Vs, \"s2\", \"a1\", 0.9), 0.69)\n",
    "assert np.isclose(get_action_value(mdp, test_Vs, \"s1\", \"a0\", 0.9), 3.95)"
   ]
  },
  {
   "cell_type": "markdown",
   "metadata": {},
   "source": [
    "Используя $Q(s,a)$ можно определить \"следующее\" $V(s)$ для итерационной оптимизации ценности.\n",
    " $$V_{(i+1)}(s) = \\max_a \\sum_{s'} P(s' | s,a) \\cdot [ r(s,a,s') + \\gamma V_{i}(s')] = \\max_a Q_i(s,a)$$"
   ]
  },
  {
   "cell_type": "code",
   "execution_count": 10,
   "metadata": {},
   "outputs": [],
   "source": [
    "def get_new_state_value(\n",
    "    mdp: MDP, state_values: tp.Dict[str, float], state: str, gamma: float\n",
    ") -> float:\n",
    "    \"\"\"Вычисляет следующее V(s) согласно формуле выше. Просьба не изменять state_values в процессе.\"\"\"\n",
    "    if mdp.is_terminal(state):\n",
    "        return 0\n",
    "\n",
    "    # Ваша имплементация ниже\n",
    "    all_actions = mdp.get_possible_actions(state)\n",
    "    Q_max = 0.0\n",
    "    for a in all_actions:\n",
    "        Q_curr = get_action_value(mdp, state_values, state, a, gamma)\n",
    "        if Q_curr > Q_max:\n",
    "            Q_max = Q_curr\n",
    "\n",
    "    return Q_max"
   ]
  },
  {
   "cell_type": "code",
   "execution_count": 11,
   "metadata": {},
   "outputs": [],
   "source": [
    "test_Vs_copy = dict(test_Vs)\n",
    "assert np.isclose(get_new_state_value(mdp, test_Vs, \"s0\", 0.9), 1.8)\n",
    "assert np.isclose(get_new_state_value(mdp, test_Vs, \"s2\", 0.9), 1.08)\n",
    "assert test_Vs == test_Vs_copy, \"просьба не изменять state_values в get_new_state_value\""
   ]
  },
  {
   "cell_type": "markdown",
   "metadata": {},
   "source": [
    "Наконец-то можно скомбинировать написанное в работающий алгоритм."
   ]
  },
  {
   "cell_type": "code",
   "execution_count": 12,
   "metadata": {},
   "outputs": [
    {
     "name": "stdout",
     "output_type": "stream",
     "text": [
      "Итерация    0   |   разность max_s|V_new(s) - V_old(s)|: 3.50000   |   V(s0) = 0.000   V(s1) = 0.000   V(s2) = 0.000\n",
      "Итерация    1   |   разность max_s|V_new(s) - V_old(s)|: 0.64500   |   V(s0) = 0.000   V(s1) = 3.500   V(s2) = 0.000\n",
      "Итерация    2   |   разность max_s|V_new(s) - V_old(s)|: 0.58050   |   V(s0) = 0.000   V(s1) = 3.815   V(s2) = 0.645\n",
      "Итерация    3   |   разность max_s|V_new(s) - V_old(s)|: 0.43582   |   V(s0) = 0.581   V(s1) = 3.959   V(s2) = 0.962\n",
      "Итерация    4   |   разность max_s|V_new(s) - V_old(s)|: 0.30634   |   V(s0) = 0.866   V(s1) = 4.395   V(s2) = 1.272\n",
      "Итерация    5   |   разность max_s|V_new(s) - V_old(s)|: 0.27571   |   V(s0) = 1.145   V(s1) = 4.670   V(s2) = 1.579\n",
      "Итерация    6   |   разность max_s|V_new(s) - V_old(s)|: 0.24347   |   V(s0) = 1.421   V(s1) = 4.926   V(s2) = 1.838\n",
      "Итерация    7   |   разность max_s|V_new(s) - V_old(s)|: 0.21419   |   V(s0) = 1.655   V(s1) = 5.169   V(s2) = 2.075\n",
      "Итерация    8   |   разность max_s|V_new(s) - V_old(s)|: 0.19277   |   V(s0) = 1.868   V(s1) = 5.381   V(s2) = 2.290\n",
      "Итерация    9   |   разность max_s|V_new(s) - V_old(s)|: 0.17327   |   V(s0) = 2.061   V(s1) = 5.573   V(s2) = 2.481\n",
      "Итерация   10   |   разность max_s|V_new(s) - V_old(s)|: 0.15569   |   V(s0) = 2.233   V(s1) = 5.746   V(s2) = 2.654\n",
      "Итерация   11   |   разность max_s|V_new(s) - V_old(s)|: 0.14012   |   V(s0) = 2.389   V(s1) = 5.902   V(s2) = 2.810\n",
      "Итерация   12   |   разность max_s|V_new(s) - V_old(s)|: 0.12610   |   V(s0) = 2.529   V(s1) = 6.042   V(s2) = 2.950\n",
      "Итерация   13   |   разность max_s|V_new(s) - V_old(s)|: 0.11348   |   V(s0) = 2.655   V(s1) = 6.168   V(s2) = 3.076\n",
      "Итерация   14   |   разность max_s|V_new(s) - V_old(s)|: 0.10213   |   V(s0) = 2.769   V(s1) = 6.282   V(s2) = 3.190\n",
      "Итерация   15   |   разность max_s|V_new(s) - V_old(s)|: 0.09192   |   V(s0) = 2.871   V(s1) = 6.384   V(s2) = 3.292\n",
      "Итерация   16   |   разность max_s|V_new(s) - V_old(s)|: 0.08272   |   V(s0) = 2.963   V(s1) = 6.476   V(s2) = 3.384\n",
      "Итерация   17   |   разность max_s|V_new(s) - V_old(s)|: 0.07445   |   V(s0) = 3.045   V(s1) = 6.558   V(s2) = 3.467\n",
      "Итерация   18   |   разность max_s|V_new(s) - V_old(s)|: 0.06701   |   V(s0) = 3.120   V(s1) = 6.633   V(s2) = 3.541\n",
      "Итерация   19   |   разность max_s|V_new(s) - V_old(s)|: 0.06031   |   V(s0) = 3.187   V(s1) = 6.700   V(s2) = 3.608\n",
      "Итерация   20   |   разность max_s|V_new(s) - V_old(s)|: 0.05428   |   V(s0) = 3.247   V(s1) = 6.760   V(s2) = 3.668\n",
      "Итерация   21   |   разность max_s|V_new(s) - V_old(s)|: 0.04885   |   V(s0) = 3.301   V(s1) = 6.814   V(s2) = 3.723\n",
      "Итерация   22   |   разность max_s|V_new(s) - V_old(s)|: 0.04396   |   V(s0) = 3.350   V(s1) = 6.863   V(s2) = 3.771\n",
      "Итерация   23   |   разность max_s|V_new(s) - V_old(s)|: 0.03957   |   V(s0) = 3.394   V(s1) = 6.907   V(s2) = 3.815\n",
      "Итерация   24   |   разность max_s|V_new(s) - V_old(s)|: 0.03561   |   V(s0) = 3.434   V(s1) = 6.947   V(s2) = 3.855\n",
      "Итерация   25   |   разность max_s|V_new(s) - V_old(s)|: 0.03205   |   V(s0) = 3.469   V(s1) = 6.982   V(s2) = 3.891\n",
      "Итерация   26   |   разность max_s|V_new(s) - V_old(s)|: 0.02884   |   V(s0) = 3.502   V(s1) = 7.014   V(s2) = 3.923\n",
      "Итерация   27   |   разность max_s|V_new(s) - V_old(s)|: 0.02596   |   V(s0) = 3.530   V(s1) = 7.043   V(s2) = 3.951\n",
      "Итерация   28   |   разность max_s|V_new(s) - V_old(s)|: 0.02336   |   V(s0) = 3.556   V(s1) = 7.069   V(s2) = 3.977\n",
      "Итерация   29   |   разность max_s|V_new(s) - V_old(s)|: 0.02103   |   V(s0) = 3.580   V(s1) = 7.093   V(s2) = 4.001\n",
      "Итерация   30   |   разность max_s|V_new(s) - V_old(s)|: 0.01892   |   V(s0) = 3.601   V(s1) = 7.114   V(s2) = 4.022\n",
      "Итерация   31   |   разность max_s|V_new(s) - V_old(s)|: 0.01703   |   V(s0) = 3.620   V(s1) = 7.133   V(s2) = 4.041\n",
      "Итерация   32   |   разность max_s|V_new(s) - V_old(s)|: 0.01533   |   V(s0) = 3.637   V(s1) = 7.150   V(s2) = 4.058\n",
      "Итерация   33   |   разность max_s|V_new(s) - V_old(s)|: 0.01380   |   V(s0) = 3.652   V(s1) = 7.165   V(s2) = 4.073\n",
      "Итерация   34   |   разность max_s|V_new(s) - V_old(s)|: 0.01242   |   V(s0) = 3.666   V(s1) = 7.179   V(s2) = 4.087\n",
      "Итерация   35   |   разность max_s|V_new(s) - V_old(s)|: 0.01117   |   V(s0) = 3.678   V(s1) = 7.191   V(s2) = 4.099\n",
      "Итерация   36   |   разность max_s|V_new(s) - V_old(s)|: 0.01006   |   V(s0) = 3.689   V(s1) = 7.202   V(s2) = 4.110\n",
      "Итерация   37   |   разность max_s|V_new(s) - V_old(s)|: 0.00905   |   V(s0) = 3.699   V(s1) = 7.212   V(s2) = 4.121\n",
      "Итерация   38   |   разность max_s|V_new(s) - V_old(s)|: 0.00815   |   V(s0) = 3.708   V(s1) = 7.221   V(s2) = 4.130\n",
      "Итерация   39   |   разность max_s|V_new(s) - V_old(s)|: 0.00733   |   V(s0) = 3.717   V(s1) = 7.230   V(s2) = 4.138\n",
      "Итерация   40   |   разность max_s|V_new(s) - V_old(s)|: 0.00660   |   V(s0) = 3.724   V(s1) = 7.237   V(s2) = 4.145\n",
      "Итерация   41   |   разность max_s|V_new(s) - V_old(s)|: 0.00594   |   V(s0) = 3.731   V(s1) = 7.244   V(s2) = 4.152\n",
      "Итерация   42   |   разность max_s|V_new(s) - V_old(s)|: 0.00534   |   V(s0) = 3.736   V(s1) = 7.249   V(s2) = 4.158\n",
      "Итерация   43   |   разность max_s|V_new(s) - V_old(s)|: 0.00481   |   V(s0) = 3.742   V(s1) = 7.255   V(s2) = 4.163\n",
      "Итерация   44   |   разность max_s|V_new(s) - V_old(s)|: 0.00433   |   V(s0) = 3.747   V(s1) = 7.260   V(s2) = 4.168\n",
      "Итерация   45   |   разность max_s|V_new(s) - V_old(s)|: 0.00390   |   V(s0) = 3.751   V(s1) = 7.264   V(s2) = 4.172\n",
      "Итерация   46   |   разность max_s|V_new(s) - V_old(s)|: 0.00351   |   V(s0) = 3.755   V(s1) = 7.268   V(s2) = 4.176\n",
      "Итерация   47   |   разность max_s|V_new(s) - V_old(s)|: 0.00316   |   V(s0) = 3.758   V(s1) = 7.271   V(s2) = 4.179\n",
      "Итерация   48   |   разность max_s|V_new(s) - V_old(s)|: 0.00284   |   V(s0) = 3.762   V(s1) = 7.275   V(s2) = 4.183\n",
      "Итерация   49   |   разность max_s|V_new(s) - V_old(s)|: 0.00256   |   V(s0) = 3.764   V(s1) = 7.277   V(s2) = 4.185\n",
      "Итерация   50   |   разность max_s|V_new(s) - V_old(s)|: 0.00230   |   V(s0) = 3.767   V(s1) = 7.280   V(s2) = 4.188\n",
      "Итерация   51   |   разность max_s|V_new(s) - V_old(s)|: 0.00207   |   V(s0) = 3.769   V(s1) = 7.282   V(s2) = 4.190\n",
      "Итерация   52   |   разность max_s|V_new(s) - V_old(s)|: 0.00186   |   V(s0) = 3.771   V(s1) = 7.284   V(s2) = 4.192\n",
      "Итерация   53   |   разность max_s|V_new(s) - V_old(s)|: 0.00168   |   V(s0) = 3.773   V(s1) = 7.286   V(s2) = 4.194\n",
      "Итерация   54   |   разность max_s|V_new(s) - V_old(s)|: 0.00151   |   V(s0) = 3.775   V(s1) = 7.288   V(s2) = 4.196\n",
      "Итерация   55   |   разность max_s|V_new(s) - V_old(s)|: 0.00136   |   V(s0) = 3.776   V(s1) = 7.289   V(s2) = 4.197\n",
      "Итерация   56   |   разность max_s|V_new(s) - V_old(s)|: 0.00122   |   V(s0) = 3.778   V(s1) = 7.291   V(s2) = 4.199\n",
      "Итерация   57   |   разность max_s|V_new(s) - V_old(s)|: 0.00110   |   V(s0) = 3.779   V(s1) = 7.292   V(s2) = 4.200\n",
      "Итерация   58   |   разность max_s|V_new(s) - V_old(s)|: 0.00099   |   V(s0) = 3.780   V(s1) = 7.293   V(s2) = 4.201\n",
      "Останов\n"
     ]
    }
   ],
   "source": [
    "# %%time\n",
    "\n",
    "# гиперпараметры\n",
    "gamma = 0.9            # фактор дисконтирования MDP\n",
    "num_iter = 100         # максимальное количество итераций, не включая инициализацию\n",
    "# останов VI, если новые значения V(s) настолько близки к старым (или ближе)\n",
    "min_difference = 0.001\n",
    "\n",
    "# инициализация V(s)\n",
    "state_values = {s: 0 for s in mdp.get_all_states()}\n",
    "\n",
    "if has_graphviz:\n",
    "    display(plot_graph_with_state_values(mdp, state_values))\n",
    "\n",
    "for i in range(num_iter):\n",
    "\n",
    "    # Вычисление новых V(s) используя определённые выше функции.\n",
    "    # Должен быть словарь {state : float V_new(state)}\n",
    "    new_state_values = {s: get_new_state_value(mdp, state_values, s, gamma) for s in state_values}\n",
    "\n",
    "    assert isinstance(new_state_values, dict)\n",
    "\n",
    "    # Вычисление темпоральных различий V(s)\n",
    "    diff = max(abs(new_state_values[s] - state_values[s])\n",
    "               for s in mdp.get_all_states())\n",
    "    print(\"Итерация %4i   |   разность max_s|V_new(s) - V_old(s)|: %6.5f   |   \" % (i, diff), end=\"\")\n",
    "    print('   '.join(\"V(%s) = %.3f\" % (s, v) for s, v in state_values.items()))\n",
    "    state_values = new_state_values\n",
    "\n",
    "    if diff < min_difference:\n",
    "        print(\"Останов\")\n",
    "        break"
   ]
  },
  {
   "cell_type": "code",
   "execution_count": 13,
   "metadata": {},
   "outputs": [],
   "source": [
    "if has_graphviz:\n",
    "    display(plot_graph_with_state_values(mdp, state_values))"
   ]
  },
  {
   "cell_type": "code",
   "execution_count": 14,
   "metadata": {},
   "outputs": [
    {
     "name": "stdout",
     "output_type": "stream",
     "text": [
      "Финальные ценности состояний: {'s0': 3.7810348735476405, 's1': 7.294006423867229, 's2': 4.202140275227048}\n"
     ]
    }
   ],
   "source": [
    "print(\"Финальные ценности состояний:\", state_values)\n",
    "\n",
    "assert abs(state_values[\"s0\"] - 3.781) < 0.01\n",
    "assert abs(state_values[\"s1\"] - 7.294) < 0.01\n",
    "assert abs(state_values[\"s2\"] - 4.202) < 0.01"
   ]
  },
  {
   "cell_type": "markdown",
   "metadata": {},
   "source": [
    "Теперь используем полученные $V^{*}(s)$ для определения оптимальных действий в каждом состоянии\n",
    "\n",
    " $$\\pi^*(s) = argmax_a \\sum_{s'} P(s' | s,a) \\cdot [ r(s,a,s') + \\gamma V_{i}(s')] = argmax_a Q_i(s,a)$$\n",
    " \n",
    "Единственное отличие по сравнению с вычислением `V(s)` состоит в извлечении не `max`, а `argmax`: поиск действия с максимальной ценностью `Q(s,a)`."
   ]
  },
  {
   "cell_type": "code",
   "execution_count": 15,
   "metadata": {},
   "outputs": [],
   "source": [
    "def get_optimal_action(\n",
    "    mdp: MDP, state_values: tp.Dict[str, float], state: str, gamma: float = 0.9\n",
    ") -> str:\n",
    "    \"\"\"Выбор оптимального действия, используя формулу выше.\"\"\"\n",
    "    if mdp.is_terminal(state):\n",
    "        return None\n",
    "    all_actions = mdp.get_possible_actions(state)\n",
    "    a_max = all_actions[0]\n",
    "    Q_max = 0.0\n",
    "    for a in all_actions:\n",
    "        Q_curr = get_action_value(mdp, state_values, state, a, gamma)\n",
    "        if Q_curr > Q_max:\n",
    "            Q_max = Q_curr\n",
    "            a_max = a\n",
    "    return a_max"
   ]
  },
  {
   "cell_type": "code",
   "execution_count": 16,
   "metadata": {},
   "outputs": [],
   "source": [
    "assert get_optimal_action(mdp, state_values, \"s0\", gamma) == \"a1\"\n",
    "assert get_optimal_action(mdp, state_values, \"s1\", gamma) == \"a0\"\n",
    "assert get_optimal_action(mdp, state_values, \"s2\", gamma) == \"a1\""
   ]
  },
  {
   "cell_type": "code",
   "execution_count": 17,
   "metadata": {},
   "outputs": [],
   "source": [
    "if has_graphviz:\n",
    "    try:\n",
    "        display(plot_graph_optimal_strategy_and_state_values(mdp, state_values))\n",
    "    except ImportError:\n",
    "        raise ImportError(\n",
    "            'Запустите ячейку, начинающуюся с \"%%writefile mdp_get_action_value.py\"'\n",
    "        )"
   ]
  },
  {
   "cell_type": "code",
   "execution_count": 18,
   "metadata": {},
   "outputs": [
    {
     "name": "stdout",
     "output_type": "stream",
     "text": [
      "средняя награда:  0.4733\n",
      "CPU times: user 517 ms, sys: 8.64 ms, total: 526 ms\n",
      "Wall time: 521 ms\n"
     ]
    }
   ],
   "source": [
    "%%time\n",
    "\n",
    "# Оценка средней награды агента\n",
    "\n",
    "s = mdp.reset()\n",
    "rewards = []\n",
    "for _ in range(10000):\n",
    "    s, r, done, _ = mdp.step(get_optimal_action(mdp, state_values, s, gamma))\n",
    "    rewards.append(r)\n",
    "\n",
    "print(\"средняя награда: \", np.mean(rewards))\n",
    "\n",
    "assert(0.40 < np.mean(rewards) < 0.55)"
   ]
  },
  {
   "cell_type": "markdown",
   "metadata": {},
   "source": [
    "### Frozen lake"
   ]
  },
  {
   "cell_type": "code",
   "execution_count": 19,
   "metadata": {},
   "outputs": [
    {
     "name": "stdout",
     "output_type": "stream",
     "text": [
      "*FFF\n",
      "FHFH\n",
      "FFFH\n",
      "HFFG\n",
      "\n"
     ]
    }
   ],
   "source": [
    "from mdp import FrozenLakeEnv\n",
    "\n",
    "mdp = FrozenLakeEnv(slip_chance=0)\n",
    "\n",
    "mdp.render()"
   ]
  },
  {
   "cell_type": "code",
   "execution_count": 20,
   "metadata": {},
   "outputs": [],
   "source": [
    "def value_iteration(\n",
    "    mdp: MDP,\n",
    "    state_values: tp.Dict[str, float] = None,\n",
    "    gamma: float = 0.9,\n",
    "    num_iter: int = 1000,\n",
    "    min_difference: float = 1e-5,\n",
    "    verbose: bool = True,\n",
    ") -> tp.Dict[str, float]:\n",
    "    \"\"\"Выполняет num_iter шагов итерационной оптимизации ценности, начиная с state_values.\n",
    "    То же, что и ранее, но в формате функции\"\"\"\n",
    "    state_values = state_values or {s: 0 for s in mdp.get_all_states()}\n",
    "    for i in range(num_iter):\n",
    "\n",
    "        # Вычислить новые ценности состояний, используя определённые выше функции.\n",
    "        # В результате должен получиться словарь формата {state : new_V(state)}\n",
    "        new_state_values = {s: get_new_state_value(mdp, state_values, s, gamma) for s in state_values}\n",
    "\n",
    "        assert isinstance(new_state_values, dict)\n",
    "\n",
    "        # Вычислить темпоральную разность по значениям ценности\n",
    "        diff = max(\n",
    "            abs(new_state_values[s] - state_values[s]) for s in mdp.get_all_states()\n",
    "        )\n",
    "\n",
    "        if verbose:\n",
    "            print(\n",
    "                \"Итерация %4i   |   разность max_s|V_new(s) - V_old(s)|: %6.5f   |   V(start): %.3f \"\n",
    "                % (i, diff, new_state_values[mdp._initial_state])\n",
    "            )\n",
    "\n",
    "        state_values = new_state_values\n",
    "        if diff < min_difference:\n",
    "            break\n",
    "\n",
    "    return state_values"
   ]
  },
  {
   "cell_type": "code",
   "execution_count": 21,
   "metadata": {},
   "outputs": [
    {
     "name": "stdout",
     "output_type": "stream",
     "text": [
      "Итерация    0   |   разность max_s|V_new(s) - V_old(s)|: 1.00000   |   V(start): 0.000 \n",
      "Итерация    1   |   разность max_s|V_new(s) - V_old(s)|: 0.90000   |   V(start): 0.000 \n",
      "Итерация    2   |   разность max_s|V_new(s) - V_old(s)|: 0.81000   |   V(start): 0.000 \n",
      "Итерация    3   |   разность max_s|V_new(s) - V_old(s)|: 0.72900   |   V(start): 0.000 \n",
      "Итерация    4   |   разность max_s|V_new(s) - V_old(s)|: 0.65610   |   V(start): 0.000 \n",
      "Итерация    5   |   разность max_s|V_new(s) - V_old(s)|: 0.59049   |   V(start): 0.590 \n",
      "Итерация    6   |   разность max_s|V_new(s) - V_old(s)|: 0.00000   |   V(start): 0.590 \n",
      "CPU times: user 9.93 ms, sys: 0 ns, total: 9.93 ms\n",
      "Wall time: 9.78 ms\n"
     ]
    }
   ],
   "source": [
    "%%time\n",
    "\n",
    "state_values = value_iteration(mdp)"
   ]
  },
  {
   "cell_type": "code",
   "execution_count": 22,
   "metadata": {},
   "outputs": [
    {
     "name": "stdout",
     "output_type": "stream",
     "text": [
      "*FFF\n",
      "FHFH\n",
      "FFFH\n",
      "HFFG\n",
      "\n",
      "down\n",
      "\n",
      "SFFF\n",
      "*HFH\n",
      "FFFH\n",
      "HFFG\n",
      "\n",
      "down\n",
      "\n",
      "SFFF\n",
      "FHFH\n",
      "*FFH\n",
      "HFFG\n",
      "\n",
      "right\n",
      "\n",
      "SFFF\n",
      "FHFH\n",
      "F*FH\n",
      "HFFG\n",
      "\n",
      "down\n",
      "\n",
      "SFFF\n",
      "FHFH\n",
      "FFFH\n",
      "H*FG\n",
      "\n",
      "right\n",
      "\n",
      "SFFF\n",
      "FHFH\n",
      "FFFH\n",
      "HF*G\n",
      "\n",
      "right\n",
      "\n",
      "SFFF\n",
      "FHFH\n",
      "FFFH\n",
      "HFF*\n",
      "\n",
      "CPU times: user 2.03 ms, sys: 16 µs, total: 2.04 ms\n",
      "Wall time: 1.96 ms\n"
     ]
    }
   ],
   "source": [
    "%%time\n",
    "\n",
    "s = mdp.reset()\n",
    "mdp.render()\n",
    "for t in range(100):\n",
    "    a = get_optimal_action(mdp, state_values, s, gamma)\n",
    "    print(a, end='\\n\\n')\n",
    "    s, r, done, _ = mdp.step(a)\n",
    "    mdp.render()\n",
    "    if done:\n",
    "        break"
   ]
  },
  {
   "cell_type": "markdown",
   "metadata": {},
   "source": [
    "### Время визуализаций!\n",
    "\n",
    "Обычно полезно и интересно видеть, что в действительности Ваш алгоритм выучивает под капотом. Для этого можно изобразить V-функцию и оптимальные действия на каждом шаге алгоритма VI."
   ]
  },
  {
   "cell_type": "code",
   "execution_count": 23,
   "metadata": {},
   "outputs": [],
   "source": [
    "import matplotlib.pyplot as plt\n",
    "%matplotlib inline\n",
    "\n",
    "\n",
    "def draw_policy(mdp, state_values):\n",
    "    plt.figure(figsize=(3, 3))\n",
    "    h, w = mdp.desc.shape\n",
    "    states = sorted(mdp.get_all_states())\n",
    "    V = np.array([state_values[s] for s in states])\n",
    "    Pi = {s: get_optimal_action(mdp, state_values, s, gamma) for s in states}\n",
    "    plt.imshow(V.reshape(w, h), cmap='gray', interpolation='none', clim=(0, 1))\n",
    "    ax = plt.gca()\n",
    "    ax.set_xticks(np.arange(h)-.5)\n",
    "    ax.set_yticks(np.arange(w)-.5)\n",
    "    ax.set_xticklabels([])\n",
    "    ax.set_yticklabels([])\n",
    "    Y, X = np.mgrid[0:4, 0:4]\n",
    "    a2uv = {'left': (-1, 0), 'down': (0, -1), 'right': (1, 0), 'up': (-1, 0)}\n",
    "    for y in range(h):\n",
    "        for x in range(w):\n",
    "            plt.text(x, y, str(mdp.desc[y, x].item()),\n",
    "                     color='g', size=12,  verticalalignment='center',\n",
    "                     horizontalalignment='center', fontweight='bold')\n",
    "            a = Pi[y, x]\n",
    "            if a is None:\n",
    "                continue\n",
    "            u, v = a2uv[a]\n",
    "            plt.arrow(x, y, u*.3, -v*.3, color='m',\n",
    "                      head_width=0.1, head_length=0.1)\n",
    "    plt.grid(color='b', lw=2, ls='-')\n",
    "    plt.show()"
   ]
  },
  {
   "cell_type": "code",
   "execution_count": 24,
   "metadata": {},
   "outputs": [
    {
     "name": "stdout",
     "output_type": "stream",
     "text": [
      "после итерации 0\n",
      "Итерация    0   |   разность max_s|V_new(s) - V_old(s)|: 1.00000   |   V(start): 0.000 \n"
     ]
    },
    {
     "data": {
      "image/png": "[encoded data removed]",
      "text/plain": [
       "<Figure size 300x300 with 1 Axes>"
      ]
     },
     "metadata": {},
     "output_type": "display_data"
    },
    {
     "name": "stdout",
     "output_type": "stream",
     "text": [
      "после итерации 1\n",
      "Итерация    0   |   разность max_s|V_new(s) - V_old(s)|: 0.90000   |   V(start): 0.000 \n"
     ]
    },
    {
     "data": {
      "image/png": "[encoded data removed]",
      "text/plain": [
       "<Figure size 300x300 with 1 Axes>"
      ]
     },
     "metadata": {},
     "output_type": "display_data"
    },
    {
     "name": "stdout",
     "output_type": "stream",
     "text": [
      "после итерации 2\n",
      "Итерация    0   |   разность max_s|V_new(s) - V_old(s)|: 0.81000   |   V(start): 0.000 \n"
     ]
    },
    {
     "data": {
      "image/png": "[encoded data removed]",
      "text/plain": [
       "<Figure size 300x300 with 1 Axes>"
      ]
     },
     "metadata": {},
     "output_type": "display_data"
    },
    {
     "name": "stdout",
     "output_type": "stream",
     "text": [
      "после итерации 3\n",
      "Итерация    0   |   разность max_s|V_new(s) - V_old(s)|: 0.72900   |   V(start): 0.000 \n"
     ]
    },
    {
     "data": {
      "image/png": "[encoded data removed]",
      "text/plain": [
       "<Figure size 300x300 with 1 Axes>"
      ]
     },
     "metadata": {},
     "output_type": "display_data"
    },
    {
     "name": "stdout",
     "output_type": "stream",
     "text": [
      "после итерации 4\n",
      "Итерация    0   |   разность max_s|V_new(s) - V_old(s)|: 0.65610   |   V(start): 0.000 \n"
     ]
    },
    {
     "data": {
      "image/png": "[encoded data removed]",
      "text/plain": [
       "<Figure size 300x300 with 1 Axes>"
      ]
     },
     "metadata": {},
     "output_type": "display_data"
    },
    {
     "name": "stdout",
     "output_type": "stream",
     "text": [
      "после итерации 5\n",
      "Итерация    0   |   разность max_s|V_new(s) - V_old(s)|: 0.59049   |   V(start): 0.590 \n"
     ]
    },
    {
     "data": {
      "image/png": "[encoded data removed]",
      "text/plain": [
       "<Figure size 300x300 with 1 Axes>"
      ]
     },
     "metadata": {},
     "output_type": "display_data"
    },
    {
     "name": "stdout",
     "output_type": "stream",
     "text": [
      "после итерации 6\n",
      "Итерация    0   |   разность max_s|V_new(s) - V_old(s)|: 0.00000   |   V(start): 0.590 \n"
     ]
    },
    {
     "data": {
      "image/png": "[encoded data removed]",
      "text/plain": [
       "<Figure size 300x300 with 1 Axes>"
      ]
     },
     "metadata": {},
     "output_type": "display_data"
    },
    {
     "name": "stdout",
     "output_type": "stream",
     "text": [
      "после итерации 7\n",
      "Итерация    0   |   разность max_s|V_new(s) - V_old(s)|: 0.00000   |   V(start): 0.590 \n"
     ]
    },
    {
     "data": {
      "image/png": "[encoded data removed]",
      "text/plain": [
       "<Figure size 300x300 with 1 Axes>"
      ]
     },
     "metadata": {},
     "output_type": "display_data"
    },
    {
     "name": "stdout",
     "output_type": "stream",
     "text": [
      "после итерации 8\n",
      "Итерация    0   |   разность max_s|V_new(s) - V_old(s)|: 0.00000   |   V(start): 0.590 \n"
     ]
    },
    {
     "data": {
      "image/png": "[encoded data removed]",
      "text/plain": [
       "<Figure size 300x300 with 1 Axes>"
      ]
     },
     "metadata": {},
     "output_type": "display_data"
    },
    {
     "name": "stdout",
     "output_type": "stream",
     "text": [
      "после итерации 9\n",
      "Итерация    0   |   разность max_s|V_new(s) - V_old(s)|: 0.00000   |   V(start): 0.590 \n"
     ]
    },
    {
     "data": {
      "image/png": "[encoded data removed]",
      "text/plain": [
       "<Figure size 300x300 with 1 Axes>"
      ]
     },
     "metadata": {},
     "output_type": "display_data"
    },
    {
     "name": "stdout",
     "output_type": "stream",
     "text": [
      "CPU times: user 1.27 s, sys: 83.7 ms, total: 1.36 s\n",
      "Wall time: 1.33 s\n"
     ]
    }
   ],
   "source": [
    "%%time\n",
    "\n",
    "state_values = {s: 0 for s in mdp.get_all_states()}\n",
    "\n",
    "for i in range(10):\n",
    "    print(\"после итерации %i\" % i)\n",
    "    state_values = value_iteration(mdp, state_values, num_iter=1)\n",
    "    draw_policy(mdp, state_values)\n",
    "# просьба игнорировать отладочный вывод \"Итерация 0\" на каждом шаге"
   ]
  },
  {
   "cell_type": "code",
   "execution_count": 25,
   "metadata": {},
   "outputs": [
    {
     "name": "stdout",
     "output_type": "stream",
     "text": [
      "после итерации 29\n",
      "Итерация    0   |   разность max_s|V_new(s) - V_old(s)|: 0.00000   |   V(start): 0.198 \n"
     ]
    },
    {
     "data": {
      "image/png": "[encoded data removed]",
      "text/plain": [
       "<Figure size 300x300 with 1 Axes>"
      ]
     },
     "metadata": {},
     "output_type": "display_data"
    },
    {
     "name": "stdout",
     "output_type": "stream",
     "text": [
      "CPU times: user 10.2 s, sys: 76.8 ms, total: 10.3 s\n",
      "Wall time: 25.3 s\n"
     ]
    }
   ],
   "source": [
    "%%time\n",
    "\n",
    "from IPython.display import clear_output\n",
    "from time import sleep\n",
    "mdp = FrozenLakeEnv(map_name='8x8', slip_chance=0.1)\n",
    "state_values = {s: 0 for s in mdp.get_all_states()}\n",
    "\n",
    "for i in range(30):\n",
    "    clear_output(True)\n",
    "    print(\"после итерации %i\" % i)\n",
    "    state_values = value_iteration(mdp, state_values, num_iter=1)\n",
    "    draw_policy(mdp, state_values)\n",
    "    sleep(0.5)\n",
    "# просьба игнорировать отладочный вывод \"Итерация 0\" на каждом шаге"
   ]
  },
  {
   "cell_type": "markdown",
   "metadata": {},
   "source": [
    "Массовые испытания"
   ]
  },
  {
   "cell_type": "code",
   "execution_count": 26,
   "metadata": {},
   "outputs": [
    {
     "name": "stdout",
     "output_type": "stream",
     "text": [
      "Итерация    0   |   разность max_s|V_new(s) - V_old(s)|: 1.00000   |   V(start): 0.000 \n",
      "Итерация    1   |   разность max_s|V_new(s) - V_old(s)|: 0.90000   |   V(start): 0.000 \n",
      "Итерация    2   |   разность max_s|V_new(s) - V_old(s)|: 0.81000   |   V(start): 0.000 \n",
      "Итерация    3   |   разность max_s|V_new(s) - V_old(s)|: 0.72900   |   V(start): 0.000 \n",
      "Итерация    4   |   разность max_s|V_new(s) - V_old(s)|: 0.65610   |   V(start): 0.000 \n",
      "Итерация    5   |   разность max_s|V_new(s) - V_old(s)|: 0.59049   |   V(start): 0.590 \n",
      "Итерация    6   |   разность max_s|V_new(s) - V_old(s)|: 0.00000   |   V(start): 0.590 \n",
      "средняя награда:  1.0\n",
      "Отлинчая работа!\n",
      "CPU times: user 1.03 s, sys: 53.4 ms, total: 1.08 s\n",
      "Wall time: 1.07 s\n"
     ]
    }
   ],
   "source": [
    "%%time\n",
    "\n",
    "mdp = FrozenLakeEnv(slip_chance=0)\n",
    "state_values = value_iteration(mdp)\n",
    "\n",
    "total_rewards = []\n",
    "for game_i in range(1000):\n",
    "    s = mdp.reset()\n",
    "    rewards = []\n",
    "    for t in range(100):\n",
    "        s, r, done, _ = mdp.step(\n",
    "            get_optimal_action(mdp, state_values, s, gamma))\n",
    "        rewards.append(r)\n",
    "        if done:\n",
    "            break\n",
    "    total_rewards.append(np.sum(rewards))\n",
    "\n",
    "print(\"средняя награда: \", np.mean(total_rewards))\n",
    "assert(1.0 <= np.mean(total_rewards) <= 1.0)\n",
    "print(\"Отлинчая работа!\")"
   ]
  },
  {
   "cell_type": "code",
   "execution_count": 27,
   "metadata": {},
   "outputs": [
    {
     "name": "stdout",
     "output_type": "stream",
     "text": [
      "Итерация    0   |   разность max_s|V_new(s) - V_old(s)|: 0.90000   |   V(start): 0.000 \n",
      "Итерация    1   |   разность max_s|V_new(s) - V_old(s)|: 0.72900   |   V(start): 0.000 \n",
      "Итерация    2   |   разность max_s|V_new(s) - V_old(s)|: 0.62330   |   V(start): 0.000 \n",
      "Итерация    3   |   разность max_s|V_new(s) - V_old(s)|: 0.50487   |   V(start): 0.000 \n",
      "Итерация    4   |   разность max_s|V_new(s) - V_old(s)|: 0.40894   |   V(start): 0.000 \n",
      "Итерация    5   |   разность max_s|V_new(s) - V_old(s)|: 0.34868   |   V(start): 0.349 \n",
      "Итерация    6   |   разность max_s|V_new(s) - V_old(s)|: 0.06529   |   V(start): 0.410 \n",
      "Итерация    7   |   разность max_s|V_new(s) - V_old(s)|: 0.05832   |   V(start): 0.468 \n",
      "Итерация    8   |   разность max_s|V_new(s) - V_old(s)|: 0.01139   |   V(start): 0.480 \n",
      "Итерация    9   |   разность max_s|V_new(s) - V_old(s)|: 0.00764   |   V(start): 0.487 \n",
      "Итерация   10   |   разность max_s|V_new(s) - V_old(s)|: 0.00164   |   V(start): 0.489 \n",
      "Итерация   11   |   разность max_s|V_new(s) - V_old(s)|: 0.00094   |   V(start): 0.490 \n",
      "Итерация   12   |   разность max_s|V_new(s) - V_old(s)|: 0.00022   |   V(start): 0.490 \n",
      "Итерация   13   |   разность max_s|V_new(s) - V_old(s)|: 0.00011   |   V(start): 0.490 \n",
      "Итерация   14   |   разность max_s|V_new(s) - V_old(s)|: 0.00003   |   V(start): 0.490 \n",
      "Итерация   15   |   разность max_s|V_new(s) - V_old(s)|: 0.00001   |   V(start): 0.490 \n",
      "Итерация   16   |   разность max_s|V_new(s) - V_old(s)|: 0.00000   |   V(start): 0.490 \n",
      "средняя награда:  0.9\n",
      "Отличная работа!\n",
      "CPU times: user 1.14 s, sys: 12.8 ms, total: 1.15 s\n",
      "Wall time: 1.14 s\n"
     ]
    }
   ],
   "source": [
    "%%time\n",
    "\n",
    "# Оценка средней награды агента\n",
    "mdp = FrozenLakeEnv(slip_chance=0.1)\n",
    "state_values = value_iteration(mdp)\n",
    "\n",
    "total_rewards = []\n",
    "for game_i in range(1000):\n",
    "    s = mdp.reset()\n",
    "    rewards = []\n",
    "    for t in range(100):\n",
    "        s, r, done, _ = mdp.step(\n",
    "            get_optimal_action(mdp, state_values, s, gamma))\n",
    "        rewards.append(r)\n",
    "        if done:\n",
    "            break\n",
    "    total_rewards.append(np.sum(rewards))\n",
    "\n",
    "print(\"средняя награда: \", np.mean(total_rewards))\n",
    "assert(0.8 <= np.mean(total_rewards) <= 0.95)\n",
    "print(\"Отличная работа!\")"
   ]
  },
  {
   "cell_type": "code",
   "execution_count": 28,
   "metadata": {},
   "outputs": [
    {
     "name": "stdout",
     "output_type": "stream",
     "text": [
      "Итерация    0   |   разность max_s|V_new(s) - V_old(s)|: 0.75000   |   V(start): 0.000 \n",
      "Итерация    1   |   разность max_s|V_new(s) - V_old(s)|: 0.50625   |   V(start): 0.000 \n",
      "Итерация    2   |   разность max_s|V_new(s) - V_old(s)|: 0.39867   |   V(start): 0.000 \n",
      "Итерация    3   |   разность max_s|V_new(s) - V_old(s)|: 0.26910   |   V(start): 0.000 \n",
      "Итерация    4   |   разность max_s|V_new(s) - V_old(s)|: 0.18164   |   V(start): 0.000 \n",
      "Итерация    5   |   разность max_s|V_new(s) - V_old(s)|: 0.14013   |   V(start): 0.140 \n",
      "Итерация    6   |   разность max_s|V_new(s) - V_old(s)|: 0.07028   |   V(start): 0.199 \n",
      "Итерация    7   |   разность max_s|V_new(s) - V_old(s)|: 0.06030   |   V(start): 0.260 \n",
      "Итерация    8   |   разность max_s|V_new(s) - V_old(s)|: 0.02594   |   V(start): 0.285 \n",
      "Итерация    9   |   разность max_s|V_new(s) - V_old(s)|: 0.01918   |   V(start): 0.305 \n",
      "Итерация   10   |   разность max_s|V_new(s) - V_old(s)|: 0.00858   |   V(start): 0.313 \n",
      "Итерация   11   |   разность max_s|V_new(s) - V_old(s)|: 0.00560   |   V(start): 0.319 \n",
      "Итерация   12   |   разность max_s|V_new(s) - V_old(s)|: 0.00260   |   V(start): 0.321 \n",
      "Итерация   13   |   разность max_s|V_new(s) - V_old(s)|: 0.00159   |   V(start): 0.323 \n",
      "Итерация   14   |   разность max_s|V_new(s) - V_old(s)|: 0.00076   |   V(start): 0.324 \n",
      "Итерация   15   |   разность max_s|V_new(s) - V_old(s)|: 0.00045   |   V(start): 0.324 \n",
      "Итерация   16   |   разность max_s|V_new(s) - V_old(s)|: 0.00022   |   V(start): 0.324 \n",
      "Итерация   17   |   разность max_s|V_new(s) - V_old(s)|: 0.00012   |   V(start): 0.325 \n",
      "Итерация   18   |   разность max_s|V_new(s) - V_old(s)|: 0.00006   |   V(start): 0.325 \n",
      "Итерация   19   |   разность max_s|V_new(s) - V_old(s)|: 0.00003   |   V(start): 0.325 \n",
      "Итерация   20   |   разность max_s|V_new(s) - V_old(s)|: 0.00002   |   V(start): 0.325 \n",
      "Итерация   21   |   разность max_s|V_new(s) - V_old(s)|: 0.00001   |   V(start): 0.325 \n",
      "средняя награда:  0.658\n",
      "Отличная работа!\n",
      "CPU times: user 1.14 s, sys: 6.51 ms, total: 1.15 s\n",
      "Wall time: 1.15 s\n"
     ]
    }
   ],
   "source": [
    "%%time\n",
    "\n",
    "# Оценка средней награды агента\n",
    "mdp = FrozenLakeEnv(slip_chance=0.25)\n",
    "state_values = value_iteration(mdp)\n",
    "\n",
    "total_rewards = []\n",
    "for game_i in range(1000):\n",
    "    s = mdp.reset()\n",
    "    rewards = []\n",
    "    for t in range(100):\n",
    "        s, r, done, _ = mdp.step(\n",
    "            get_optimal_action(mdp, state_values, s, gamma))\n",
    "        rewards.append(r)\n",
    "        if done:\n",
    "            break\n",
    "    total_rewards.append(np.sum(rewards))\n",
    "\n",
    "print(\"средняя награда: \", np.mean(total_rewards))\n",
    "assert(0.6 <= np.mean(total_rewards) <= 0.7)\n",
    "print(\"Отличная работа!\")"
   ]
  },
  {
   "cell_type": "code",
   "execution_count": 29,
   "metadata": {},
   "outputs": [
    {
     "name": "stdout",
     "output_type": "stream",
     "text": [
      "Итерация    0   |   разность max_s|V_new(s) - V_old(s)|: 0.80000   |   V(start): 0.000 \n",
      "Итерация    1   |   разность max_s|V_new(s) - V_old(s)|: 0.57600   |   V(start): 0.000 \n",
      "Итерация    2   |   разность max_s|V_new(s) - V_old(s)|: 0.41472   |   V(start): 0.000 \n",
      "Итерация    3   |   разность max_s|V_new(s) - V_old(s)|: 0.29860   |   V(start): 0.000 \n",
      "Итерация    4   |   разность max_s|V_new(s) - V_old(s)|: 0.24186   |   V(start): 0.000 \n",
      "Итерация    5   |   разность max_s|V_new(s) - V_old(s)|: 0.19349   |   V(start): 0.000 \n",
      "Итерация    6   |   разность max_s|V_new(s) - V_old(s)|: 0.15325   |   V(start): 0.000 \n",
      "Итерация    7   |   разность max_s|V_new(s) - V_old(s)|: 0.12288   |   V(start): 0.000 \n",
      "Итерация    8   |   разность max_s|V_new(s) - V_old(s)|: 0.09930   |   V(start): 0.000 \n",
      "Итерация    9   |   разность max_s|V_new(s) - V_old(s)|: 0.08037   |   V(start): 0.000 \n",
      "Итерация   10   |   разность max_s|V_new(s) - V_old(s)|: 0.06426   |   V(start): 0.000 \n",
      "Итерация   11   |   разность max_s|V_new(s) - V_old(s)|: 0.05129   |   V(start): 0.000 \n",
      "Итерация   12   |   разность max_s|V_new(s) - V_old(s)|: 0.04330   |   V(start): 0.000 \n",
      "Итерация   13   |   разность max_s|V_new(s) - V_old(s)|: 0.03802   |   V(start): 0.033 \n",
      "Итерация   14   |   разность max_s|V_new(s) - V_old(s)|: 0.03332   |   V(start): 0.058 \n",
      "Итерация   15   |   разность max_s|V_new(s) - V_old(s)|: 0.02910   |   V(start): 0.087 \n",
      "Итерация   16   |   разность max_s|V_new(s) - V_old(s)|: 0.01855   |   V(start): 0.106 \n",
      "Итерация   17   |   разность max_s|V_new(s) - V_old(s)|: 0.01403   |   V(start): 0.120 \n",
      "Итерация   18   |   разность max_s|V_new(s) - V_old(s)|: 0.00810   |   V(start): 0.128 \n",
      "Итерация   19   |   разность max_s|V_new(s) - V_old(s)|: 0.00555   |   V(start): 0.133 \n",
      "Итерация   20   |   разность max_s|V_new(s) - V_old(s)|: 0.00321   |   V(start): 0.137 \n",
      "Итерация   21   |   разность max_s|V_new(s) - V_old(s)|: 0.00247   |   V(start): 0.138 \n",
      "Итерация   22   |   разность max_s|V_new(s) - V_old(s)|: 0.00147   |   V(start): 0.139 \n",
      "Итерация   23   |   разность max_s|V_new(s) - V_old(s)|: 0.00104   |   V(start): 0.140 \n",
      "Итерация   24   |   разность max_s|V_new(s) - V_old(s)|: 0.00058   |   V(start): 0.140 \n",
      "Итерация   25   |   разность max_s|V_new(s) - V_old(s)|: 0.00036   |   V(start): 0.141 \n",
      "Итерация   26   |   разность max_s|V_new(s) - V_old(s)|: 0.00024   |   V(start): 0.141 \n",
      "Итерация   27   |   разность max_s|V_new(s) - V_old(s)|: 0.00018   |   V(start): 0.141 \n",
      "Итерация   28   |   разность max_s|V_new(s) - V_old(s)|: 0.00012   |   V(start): 0.141 \n",
      "Итерация   29   |   разность max_s|V_new(s) - V_old(s)|: 0.00007   |   V(start): 0.141 \n",
      "Итерация   30   |   разность max_s|V_new(s) - V_old(s)|: 0.00004   |   V(start): 0.141 \n",
      "Итерация   31   |   разность max_s|V_new(s) - V_old(s)|: 0.00003   |   V(start): 0.141 \n",
      "Итерация   32   |   разность max_s|V_new(s) - V_old(s)|: 0.00001   |   V(start): 0.141 \n",
      "Итерация   33   |   разность max_s|V_new(s) - V_old(s)|: 0.00001   |   V(start): 0.141 \n",
      "средняя награда:  0.723\n",
      "Отличная работа!\n",
      "CPU times: user 9.61 s, sys: 14.1 ms, total: 9.63 s\n",
      "Wall time: 9.64 s\n"
     ]
    }
   ],
   "source": [
    "%%time\n",
    "\n",
    "# Оценка средней награды агента\n",
    "mdp = FrozenLakeEnv(slip_chance=0.2, map_name='8x8')\n",
    "state_values = value_iteration(mdp)\n",
    "\n",
    "total_rewards = []\n",
    "for game_i in range(1000):\n",
    "    s = mdp.reset()\n",
    "    rewards = []\n",
    "    for t in range(100):\n",
    "        s, r, done, _ = mdp.step(\n",
    "            get_optimal_action(mdp, state_values, s, gamma))\n",
    "        rewards.append(r)\n",
    "        if done:\n",
    "            break\n",
    "    total_rewards.append(np.sum(rewards))\n",
    "\n",
    "print(\"средняя награда: \", np.mean(total_rewards))\n",
    "assert(0.6 <= np.mean(total_rewards) <= 0.8)\n",
    "print(\"Отличная работа!\")"
   ]
  },
  {
   "cell_type": "markdown",
   "metadata": {},
   "source": [
    "# Итерационная оптимизация политики, Policy Iteration (вплоть до 4 баллов)\n",
    "\n",
    "Требуется имплементировать явную итерационную оптимизацию политики, Policy Iteration (PI) согласно следующему псевдокоду:\n",
    "\n",
    "---\n",
    "Инициализация $\\pi_0$   `// случайная или константная`\n",
    "\n",
    "Для $n=0, 1, 2, \\dots$\n",
    "- Вычислить функцию $V^{\\pi_{n}}$\n",
    "- С помощью $V^{\\pi_{n}}$, вычислить функцию $Q^{\\pi_{n}}$\n",
    "- Вычислить новую политику $\\pi_{n+1}(s) = \\operatorname*{argmax}_a Q^{\\pi_{n}}(s,a)$\n",
    "---\n",
    "\n",
    "В отличие от VI, Policy Iteration требует явное вычисление политики &mdash; выбранное действие для каждого состояния &mdash; и оценку $V^{\\pi_{n}}$ на основе данной политики. Обновление политики происходит после (итеративного) вычисления V-функции.\n",
    "\n",
    "\n",
    "Ниже представлены несколько функций-помощников, которые могут оказаться полезными при имплементации методов."
   ]
  },
  {
   "cell_type": "code",
   "execution_count": 30,
   "metadata": {},
   "outputs": [],
   "source": [
    "import numpy as np\n",
    "import typing as tp\n",
    "from mdp import MDP\n",
    "\n",
    "transition_probs = {\n",
    "    \"s0\": {\"a0\": {\"s0\": 0.5, \"s2\": 0.5}, \"a1\": {\"s2\": 1}},\n",
    "    \"s1\": {\"a0\": {\"s0\": 0.7, \"s1\": 0.1, \"s2\": 0.2}, \"a1\": {\"s1\": 0.95, \"s2\": 0.05}},\n",
    "    \"s2\": {\"a0\": {\"s0\": 0.4, \"s1\": 0.6}, \"a1\": {\"s0\": 0.3, \"s1\": 0.3, \"s2\": 0.4}},\n",
    "}\n",
    "rewards = {\"s1\": {\"a0\": {\"s0\": +5}}, \"s2\": {\"a1\": {\"s0\": -1}}}\n",
    "\n",
    "\n",
    "mdp = MDP(transition_probs, rewards, initial_state=\"s0\")"
   ]
  },
  {
   "cell_type": "markdown",
   "metadata": {},
   "source": [
    "Настало время написать функцию под названием `compute_vpi`, которая вычисляет функцию $V^{\\pi}$ для произвольной политики $\\pi$.\n",
    "\n",
    "В отличие от VI, в этот раз требуется точное решение, не просто одна итерация.\n",
    "\n",
    "Напоминаем, что $V^{\\pi}$ удовлетворяет следующему линейному соотношению:\n",
    "$$V^{\\pi}(s) = \\sum_{s'} P(s,\\pi(s),s')[ R(s,\\pi(s),s') + \\gamma V^{\\pi}(s')]$$\n",
    "\n",
    "Вам потребуется решить систему линейных алгебраических уравнений в коде. (Найдите точное решение, например, С помощью `np.linalg.solve` или метода простых итераций.)"
   ]
  },
  {
   "cell_type": "code",
   "execution_count": 31,
   "metadata": {},
   "outputs": [],
   "source": [
    "def compute_vpi(\n",
    "    mdp: MDP, policy: tp.Dict[str, str], gamma: float = 0.9\n",
    ") -> tp.Dict[str, float]:\n",
    "    \"\"\"\n",
    "    Вычисляет V^pi(s) ДЛЯ ВСЕХ СОСТОЯНИЙ при текущей политике.\n",
    "    :параметр policy: словарь выбранных на данный момент действий {s : a}\n",
    "    :возвращает: словарь {state : V^pi(state) для всех state}\n",
    "    \"\"\"\n",
    "    all_states = sorted(mdp.get_all_states())\n",
    "    A = np.zeros(shape=(len(all_states), len(all_states)), dtype=np.float32)\n",
    "    b = np.zeros(shape=(len(all_states),), dtype=np.float32)\n",
    "    for i, state in enumerate(all_states):\n",
    "        for j, next_state in enumerate(all_states):\n",
    "            P, R = 0.0, 0.0\n",
    "            if not mdp.is_terminal(state):\n",
    "                P = mdp.get_transition_prob(state, policy[state], next_state)\n",
    "                R = mdp.get_reward(state, policy[state], next_state)\n",
    "            b[i] -= P * R\n",
    "            A[i, j] = gamma * P\n",
    "            if next_state == state:\n",
    "                A[i, j] -= 1.0\n",
    "    solution = np.linalg.solve(A, b)\n",
    "    result = {}\n",
    "    for i, state in enumerate(all_states):\n",
    "        result[state] = solution[i]\n",
    "    return result"
   ]
  },
  {
   "cell_type": "code",
   "execution_count": 32,
   "metadata": {},
   "outputs": [
    {
     "name": "stdout",
     "output_type": "stream",
     "text": [
      "{'s0': 8.031921, 's1': 11.171972, 's2': 8.924357}\n",
      "CPU times: user 660 µs, sys: 0 ns, total: 660 µs\n",
      "Wall time: 604 µs\n"
     ]
    }
   ],
   "source": [
    "%%time\n",
    "\n",
    "test_policy = {s: np.random.choice(\n",
    "    mdp.get_possible_actions(s)) for s in mdp.get_all_states()}\n",
    "new_vpi = compute_vpi(mdp, test_policy, gamma=0.9)\n",
    "\n",
    "print(new_vpi)\n",
    "\n",
    "assert type(\n",
    "    new_vpi) is dict, \"compute_vpi должен возвращать словарь {state : V^pi(state) для всех state}\""
   ]
  },
  {
   "cell_type": "markdown",
   "metadata": {},
   "source": [
    "Как только получены новые ценности состояний, время обновить текущую политику."
   ]
  },
  {
   "cell_type": "code",
   "execution_count": 33,
   "metadata": {},
   "outputs": [],
   "source": [
    "def compute_new_policy(\n",
    "    mdp: MDP, vpi: tp.Dict[str, float], gamma: float = 0.9\n",
    ") -> tp.Dict[str, str]:\n",
    "    \"\"\"\n",
    "    Вычисляет жадно новую политику как argmax по функции ценности\n",
    "    :параметр vpi: словарь {state : V^pi(state) для всех state}\n",
    "    :возвращает: словарь {state : оптимальное действие для всех state}\n",
    "    \"\"\"\n",
    "    all_states = mdp.get_all_states()\n",
    "    return {state: get_optimal_action(mdp, vpi, state, gamma) for state in all_states}"
   ]
  },
  {
   "cell_type": "code",
   "execution_count": 34,
   "metadata": {},
   "outputs": [
    {
     "name": "stdout",
     "output_type": "stream",
     "text": [
      "{'s0': 'a1', 's1': 'a0', 's2': 'a0'}\n",
      "CPU times: user 0 ns, sys: 239 µs, total: 239 µs\n",
      "Wall time: 246 µs\n"
     ]
    }
   ],
   "source": [
    "%%time\n",
    "\n",
    "new_policy = compute_new_policy(mdp, new_vpi, gamma=0.9)\n",
    "\n",
    "print(new_policy)\n",
    "\n",
    "assert type(\n",
    "    new_policy) is dict, \"compute_new_policy должен возвращать словарь {состояние : оптимальное действие}\""
   ]
  },
  {
   "cell_type": "markdown",
   "metadata": {},
   "source": [
    "__Основной цикл__"
   ]
  },
  {
   "cell_type": "code",
   "execution_count": 35,
   "metadata": {},
   "outputs": [],
   "source": [
    "def policy_iteration(\n",
    "    mdp: MDP,\n",
    "    policy: tp.Dict[str, str] = None,\n",
    "    gamma: float = 0.9,\n",
    "    num_iter: int = 1000,\n",
    "    min_difference: float = 1e-5,\n",
    "    verbose: bool = False,\n",
    ") -> tp.Tuple[tp.Dict[str, float], tp.Dict[str, str]]:\n",
    "    \"\"\"\n",
    "    Запуск итерационной оптимизации политики в цикле на num_iter итераций, или пока max_s|V_new(s) - V_old(s)|\n",
    "    не станет меньше min_difference. Если начальная политика не дана, то инициализация случайная.\n",
    "    \"\"\"\n",
    "    if policy is None:\n",
    "        policy = {\n",
    "            s: (\n",
    "                np.random.choice(mdp.get_possible_actions(s))\n",
    "                if not mdp.is_terminal(s)\n",
    "                else None\n",
    "            )\n",
    "            for s in mdp.get_all_states()\n",
    "        }\n",
    "    state_values = compute_vpi(mdp, policy, gamma)\n",
    "    for i in range(num_iter):\n",
    "        new_policy = compute_new_policy(mdp, state_values, gamma)\n",
    "        assert isinstance(new_policy, dict)\n",
    "        new_state_values = compute_vpi(mdp, new_policy, gamma)\n",
    "\n",
    "        # Вычислить темпоральную разность по значениям ценности\n",
    "        diff = max(\n",
    "            abs(new_state_values[s] - state_values[s]) for s in mdp.get_all_states()\n",
    "        )\n",
    "\n",
    "        if verbose:\n",
    "            print(\n",
    "                \"Итерация %4i   |   разность max_s|V_new(s) - V_old(s)|: %6.5f   |   V(start): %.3f \"\n",
    "                % (i, diff, new_state_values[mdp._initial_state])\n",
    "            )\n",
    "\n",
    "        state_values = new_state_values\n",
    "        policy = new_policy\n",
    "        if diff < min_difference:\n",
    "            break\n",
    "    return state_values, policy"
   ]
  },
  {
   "cell_type": "markdown",
   "metadata": {},
   "source": [
    "__Ваши результаты экспериментирования с PI__"
   ]
  },
  {
   "cell_type": "markdown",
   "metadata": {},
   "source": [
    "< Сравнение PI и VI на различных MDP (FrozenLake, варьируя slip_chance), на малом и большом FrozenLake >"
   ]
  },
  {
   "cell_type": "code",
   "execution_count": 36,
   "metadata": {},
   "outputs": [
    {
     "name": "stdout",
     "output_type": "stream",
     "text": [
      "*FFF\n",
      "FHFH\n",
      "FFFH\n",
      "HFFG\n",
      "\n"
     ]
    }
   ],
   "source": [
    "from mdp import FrozenLakeEnv\n",
    "\n",
    "mdp = FrozenLakeEnv(slip_chance=0)\n",
    "\n",
    "mdp.render()\n",
    "gamma = 0.9"
   ]
  },
  {
   "cell_type": "code",
   "execution_count": 37,
   "metadata": {},
   "outputs": [
    {
     "name": "stdout",
     "output_type": "stream",
     "text": [
      "Итерация    0   |   разность max_s|V_new(s) - V_old(s)|: 1.00000   |   V(start): 0.000 \n",
      "Итерация    1   |   разность max_s|V_new(s) - V_old(s)|: 0.90000   |   V(start): 0.000 \n",
      "Итерация    2   |   разность max_s|V_new(s) - V_old(s)|: 0.81000   |   V(start): 0.000 \n",
      "Итерация    3   |   разность max_s|V_new(s) - V_old(s)|: 0.72900   |   V(start): 0.000 \n",
      "Итерация    4   |   разность max_s|V_new(s) - V_old(s)|: 0.65610   |   V(start): -0.000 \n",
      "Итерация    5   |   разность max_s|V_new(s) - V_old(s)|: 0.59049   |   V(start): 0.590 \n",
      "Итерация    6   |   разность max_s|V_new(s) - V_old(s)|: 0.00000   |   V(start): 0.590 \n"
     ]
    },
    {
     "name": "stdout",
     "output_type": "stream",
     "text": [
      "средняя награда:  1.0\n",
      "Отлинчая работа!\n",
      "CPU times: user 280 ms, sys: 41.4 ms, total: 321 ms\n",
      "Wall time: 310 ms\n"
     ]
    }
   ],
   "source": [
    "%%time\n",
    "\n",
    "mdp = FrozenLakeEnv(slip_chance=0)\n",
    "state_values, policy = policy_iteration(mdp, verbose=True)\n",
    "\n",
    "total_rewards = []\n",
    "for game_i in range(1000):\n",
    "    s = mdp.reset()\n",
    "    rewards = []\n",
    "    for t in range(100):\n",
    "        s, r, done, _ = mdp.step(policy.get(s))\n",
    "        rewards.append(r)\n",
    "        if done:\n",
    "            break\n",
    "    total_rewards.append(np.sum(rewards))\n",
    "\n",
    "print(\"средняя награда: \", np.mean(total_rewards))\n",
    "assert(1.0 <= np.mean(total_rewards) <= 1.0)\n",
    "print(\"Отлинчая работа!\")"
   ]
  },
  {
   "cell_type": "code",
   "execution_count": 38,
   "metadata": {},
   "outputs": [
    {
     "name": "stdout",
     "output_type": "stream",
     "text": [
      "Итерация    0   |   разность max_s|V_new(s) - V_old(s)|: 0.94441   |   V(start): 0.000 \n",
      "Итерация    1   |   разность max_s|V_new(s) - V_old(s)|: 0.86576   |   V(start): 0.023 \n",
      "Итерация    2   |   разность max_s|V_new(s) - V_old(s)|: 0.64043   |   V(start): 0.442 \n",
      "Итерация    3   |   разность max_s|V_new(s) - V_old(s)|: 0.17560   |   V(start): 0.450 \n",
      "Итерация    4   |   разность max_s|V_new(s) - V_old(s)|: 0.04029   |   V(start): 0.490 \n",
      "Итерация    5   |   разность max_s|V_new(s) - V_old(s)|: 0.00000   |   V(start): 0.490 \n",
      "средняя награда:  0.883\n",
      "Отличная работа!\n",
      "CPU times: user 274 ms, sys: 42.6 ms, total: 317 ms\n",
      "Wall time: 292 ms\n"
     ]
    }
   ],
   "source": [
    "%%time\n",
    "\n",
    "# Оценка средней награды агента\n",
    "mdp = FrozenLakeEnv(slip_chance=0.1)\n",
    "state_values, policy = policy_iteration(mdp, verbose=True)\n",
    "\n",
    "total_rewards = []\n",
    "for game_i in range(1000):\n",
    "    s = mdp.reset()\n",
    "    rewards = []\n",
    "    for t in range(100):\n",
    "        s, r, done, _ = mdp.step(policy.get(s))\n",
    "        rewards.append(r)\n",
    "        if done:\n",
    "            break\n",
    "    total_rewards.append(np.sum(rewards))\n",
    "\n",
    "print(\"средняя награда: \", np.mean(total_rewards))\n",
    "assert(0.8 <= np.mean(total_rewards) <= 0.95)\n",
    "print(\"Отличная работа!\")"
   ]
  },
  {
   "cell_type": "code",
   "execution_count": 39,
   "metadata": {},
   "outputs": [
    {
     "name": "stdout",
     "output_type": "stream",
     "text": [
      "Итерация    0   |   разность max_s|V_new(s) - V_old(s)|: 0.71400   |   V(start): 0.000 \n",
      "Итерация    1   |   разность max_s|V_new(s) - V_old(s)|: 0.59241   |   V(start): 0.325 \n",
      "Итерация    2   |   разность max_s|V_new(s) - V_old(s)|: 0.00000   |   V(start): 0.325 \n",
      "средняя награда:  0.663\n",
      "Отличная работа!\n",
      "CPU times: user 266 ms, sys: 11.2 ms, total: 278 ms\n",
      "Wall time: 269 ms\n"
     ]
    }
   ],
   "source": [
    "%%time\n",
    "\n",
    "# Оценка средней награды агента\n",
    "mdp = FrozenLakeEnv(slip_chance=0.25)\n",
    "state_values, policy = policy_iteration(mdp, verbose=True)\n",
    "\n",
    "total_rewards = []\n",
    "for game_i in range(1000):\n",
    "    s = mdp.reset()\n",
    "    rewards = []\n",
    "    for t in range(100):\n",
    "        s, r, done, _ = mdp.step(policy.get(s))\n",
    "        rewards.append(r)\n",
    "        if done:\n",
    "            break\n",
    "    total_rewards.append(np.sum(rewards))\n",
    "\n",
    "print(\"средняя награда: \", np.mean(total_rewards))\n",
    "assert(0.6 <= np.mean(total_rewards) <= 0.7)\n",
    "print(\"Отличная работа!\")"
   ]
  },
  {
   "cell_type": "code",
   "execution_count": 40,
   "metadata": {},
   "outputs": [
    {
     "name": "stdout",
     "output_type": "stream",
     "text": [
      "Итерация    0   |   разность max_s|V_new(s) - V_old(s)|: 0.87912   |   V(start): 0.118 \n",
      "Итерация    1   |   разность max_s|V_new(s) - V_old(s)|: 0.59018   |   V(start): 0.141 \n",
      "Итерация    2   |   разность max_s|V_new(s) - V_old(s)|: 0.12803   |   V(start): 0.141 \n",
      "Итерация    3   |   разность max_s|V_new(s) - V_old(s)|: 0.04348   |   V(start): 0.141 \n",
      "Итерация    4   |   разность max_s|V_new(s) - V_old(s)|: 0.00657   |   V(start): 0.141 \n",
      "Итерация    5   |   разность max_s|V_new(s) - V_old(s)|: 0.00231   |   V(start): 0.141 \n",
      "Итерация    6   |   разность max_s|V_new(s) - V_old(s)|: 0.00056   |   V(start): 0.141 \n",
      "Итерация    7   |   разность max_s|V_new(s) - V_old(s)|: 0.00000   |   V(start): 0.141 \n",
      "средняя награда:  0.746\n",
      "Отличная работа!\n",
      "CPU times: user 1.22 s, sys: 24 ms, total: 1.24 s\n",
      "Wall time: 1.22 s\n"
     ]
    }
   ],
   "source": [
    "%%time\n",
    "\n",
    "# Оценка средней награды агента\n",
    "mdp = FrozenLakeEnv(slip_chance=0.2, map_name='8x8')\n",
    "state_values, policy = policy_iteration(mdp, verbose=True)\n",
    "\n",
    "total_rewards = []\n",
    "for game_i in range(1000):\n",
    "    s = mdp.reset()\n",
    "    rewards = []\n",
    "    for t in range(100):\n",
    "        s, r, done, _ = mdp.step(policy.get(s))\n",
    "        rewards.append(r)\n",
    "        if done:\n",
    "            break\n",
    "    total_rewards.append(np.sum(rewards))\n",
    "\n",
    "print(\"средняя награда: \", np.mean(total_rewards))\n",
    "assert(0.6 <= np.mean(total_rewards) <= 0.8)\n",
    "print(\"Отличная работа!\")"
   ]
  },
  {
   "cell_type": "markdown",
   "metadata": {},
   "source": [
    "# Поиск MDP, на котором Value Iteration работает достаточно долго (вплоть до 2 баллов)\n",
    "\n",
    "Когда запускали Value Iteration на небольшой задаче frozen lake, последняя итерация, на которой изменялась стратегия обучаемой политики, была под номером 6 &mdash; то есть Value Iteration находил оптимальную политику на итерации 6. Существуют ли какие-либо гарантии на то, что в общем случае поиск оптимальной политики сверху ограничен конечным числом в MDP с негораниченным горизонтом с дисконтированием? Ответ без дополнительных предположений отрицательный, более того, можно предложить пример MDP, в котором жадный алгоритм оптимизации политики будет работать произвольное наперёд заданное заданное количество итераций.\n",
    "\n",
    "Ваша задача: предъявить MDP с не более чем 3 состояниями и 2 действиями такой, что на нём алгоритм Value Iteration до останова требует, как минимум, 50 итераций. Используйте фактор дисконтирования, равный 0.95 (Однако, заметим, что величина дисконтирования тут не играет особой роли &mdash; в теории Вы можете предъявить MDP с произвольным дисконтированием, отвечающий требованиям выше.)\n",
    "\n",
    "Замечание: V-функция ценности должна измениться хотя бы один раз после 50-ой итерации (включая 50-ую итерацию), не требуется изменение V-функции на каждой итерации."
   ]
  },
  {
   "cell_type": "code",
   "execution_count": 41,
   "metadata": {},
   "outputs": [],
   "source": [
    "transition_probs = {\n",
    "    \"s0\": {\"a0\": {\"s0\": 0.9, \"s1\": 0.1}, \"a1\": {\"s0\": 0.9, \"s2\": 0.1}},\n",
    "    \"s1\": {\"a0\": {\"s1\": 0.9, \"s2\": 0.1}, \"a1\": {\"s1\": 0.9, \"s0\": 0.1}},\n",
    "    \"s2\": {\"a0\": {\"s2\": 0.9, \"s0\": 0.1}, \"a1\": {\"s2\": 0.9, \"s1\": 0.1}},\n",
    "}\n",
    "\n",
    "rewards = {\n",
    "    \"s0\": {\"a0\": {\"s1\": 0.5}, \"a1\": {\"s2\": 0.01}},\n",
    "    \"s1\": {\"a0\": {\"s2\": 0.5}, \"a1\": {\"s0\": 0.01}},\n",
    "    \"s2\": {\"a0\": {\"s0\": 0.5}, \"a1\": {\"s1\": 0.01}},\n",
    "}\n",
    "\n",
    "\n",
    "from mdp import MDP\n",
    "from numpy import random\n",
    "mdp = MDP(transition_probs, rewards, initial_state=random.choice(tuple(transition_probs.keys())))\n",
    "# Не бойтесь изменять начальное состояние initial_state"
   ]
  },
  {
   "cell_type": "code",
   "execution_count": 42,
   "metadata": {},
   "outputs": [
    {
     "name": "stdout",
     "output_type": "stream",
     "text": [
      "после итерации 0\n",
      "Итерация    0   |   разность max_s|V_new(s) - V_old(s)|: 0.05000   |   V(start): 0.050 \n",
      "Количество поменявшихся действий = 0 \n",
      "\n",
      "после итерации 1\n",
      "Итерация    0   |   разность max_s|V_new(s) - V_old(s)|: 0.04750   |   V(start): 0.098 \n",
      "Количество поменявшихся действий = 0 \n",
      "\n",
      "после итерации 2\n",
      "Итерация    0   |   разность max_s|V_new(s) - V_old(s)|: 0.04512   |   V(start): 0.143 \n",
      "Количество поменявшихся действий = 0 \n",
      "\n",
      "после итерации 3\n",
      "Итерация    0   |   разность max_s|V_new(s) - V_old(s)|: 0.04287   |   V(start): 0.185 \n",
      "Количество поменявшихся действий = 0 \n",
      "\n",
      "после итерации 4\n",
      "Итерация    0   |   разность max_s|V_new(s) - V_old(s)|: 0.04073   |   V(start): 0.226 \n",
      "Количество поменявшихся действий = 0 \n",
      "\n",
      "после итерации 5\n",
      "Итерация    0   |   разность max_s|V_new(s) - V_old(s)|: 0.03869   |   V(start): 0.265 \n",
      "Количество поменявшихся действий = 0 \n",
      "\n",
      "после итерации 6\n",
      "Итерация    0   |   разность max_s|V_new(s) - V_old(s)|: 0.03675   |   V(start): 0.302 \n",
      "Количество поменявшихся действий = 0 \n",
      "\n",
      "после итерации 7\n",
      "Итерация    0   |   разность max_s|V_new(s) - V_old(s)|: 0.03492   |   V(start): 0.337 \n",
      "Количество поменявшихся действий = 0 \n",
      "\n",
      "после итерации 8\n",
      "Итерация    0   |   разность max_s|V_new(s) - V_old(s)|: 0.03317   |   V(start): 0.370 \n",
      "Количество поменявшихся действий = 0 \n",
      "\n",
      "после итерации 9\n",
      "Итерация    0   |   разность max_s|V_new(s) - V_old(s)|: 0.03151   |   V(start): 0.401 \n",
      "Количество поменявшихся действий = 0 \n",
      "\n",
      "после итерации 10\n",
      "Итерация    0   |   разность max_s|V_new(s) - V_old(s)|: 0.02994   |   V(start): 0.431 \n",
      "Количество поменявшихся действий = 0 \n",
      "\n",
      "после итерации 11\n",
      "Итерация    0   |   разность max_s|V_new(s) - V_old(s)|: 0.02844   |   V(start): 0.460 \n",
      "Количество поменявшихся действий = 0 \n",
      "\n",
      "после итерации 12\n",
      "Итерация    0   |   разность max_s|V_new(s) - V_old(s)|: 0.02702   |   V(start): 0.487 \n",
      "Количество поменявшихся действий = 0 \n",
      "\n",
      "после итерации 13\n",
      "Итерация    0   |   разность max_s|V_new(s) - V_old(s)|: 0.02567   |   V(start): 0.512 \n",
      "Количество поменявшихся действий = 0 \n",
      "\n",
      "после итерации 14\n",
      "Итерация    0   |   разность max_s|V_new(s) - V_old(s)|: 0.02438   |   V(start): 0.537 \n",
      "Количество поменявшихся действий = 0 \n",
      "\n",
      "после итерации 15\n",
      "Итерация    0   |   разность max_s|V_new(s) - V_old(s)|: 0.02316   |   V(start): 0.560 \n",
      "Количество поменявшихся действий = 0 \n",
      "\n",
      "после итерации 16\n",
      "Итерация    0   |   разность max_s|V_new(s) - V_old(s)|: 0.02201   |   V(start): 0.582 \n",
      "Количество поменявшихся действий = 0 \n",
      "\n",
      "после итерации 17\n",
      "Итерация    0   |   разность max_s|V_new(s) - V_old(s)|: 0.02091   |   V(start): 0.603 \n",
      "Количество поменявшихся действий = 0 \n",
      "\n",
      "после итерации 18\n",
      "Итерация    0   |   разность max_s|V_new(s) - V_old(s)|: 0.01986   |   V(start): 0.623 \n",
      "Количество поменявшихся действий = 0 \n",
      "\n",
      "после итерации 19\n",
      "Итерация    0   |   разность max_s|V_new(s) - V_old(s)|: 0.01887   |   V(start): 0.642 \n",
      "Количество поменявшихся действий = 0 \n",
      "\n",
      "после итерации 20\n",
      "Итерация    0   |   разность max_s|V_new(s) - V_old(s)|: 0.01792   |   V(start): 0.659 \n",
      "Количество поменявшихся действий = 0 \n",
      "\n",
      "после итерации 21\n",
      "Итерация    0   |   разность max_s|V_new(s) - V_old(s)|: 0.01703   |   V(start): 0.676 \n",
      "Количество поменявшихся действий = 0 \n",
      "\n",
      "после итерации 22\n",
      "Итерация    0   |   разность max_s|V_new(s) - V_old(s)|: 0.01618   |   V(start): 0.693 \n",
      "Количество поменявшихся действий = 0 \n",
      "\n",
      "после итерации 23\n",
      "Итерация    0   |   разность max_s|V_new(s) - V_old(s)|: 0.01537   |   V(start): 0.708 \n",
      "Количество поменявшихся действий = 0 \n",
      "\n",
      "после итерации 24\n",
      "Итерация    0   |   разность max_s|V_new(s) - V_old(s)|: 0.01460   |   V(start): 0.723 \n",
      "Количество поменявшихся действий = 0 \n",
      "\n",
      "после итерации 25\n",
      "Итерация    0   |   разность max_s|V_new(s) - V_old(s)|: 0.01387   |   V(start): 0.736 \n",
      "Количество поменявшихся действий = 0 \n",
      "\n",
      "после итерации 26\n",
      "Итерация    0   |   разность max_s|V_new(s) - V_old(s)|: 0.01318   |   V(start): 0.750 \n",
      "Количество поменявшихся действий = 0 \n",
      "\n",
      "после итерации 27\n",
      "Итерация    0   |   разность max_s|V_new(s) - V_old(s)|: 0.01252   |   V(start): 0.762 \n",
      "Количество поменявшихся действий = 0 \n",
      "\n",
      "после итерации 28\n",
      "Итерация    0   |   разность max_s|V_new(s) - V_old(s)|: 0.01189   |   V(start): 0.774 \n",
      "Количество поменявшихся действий = 0 \n",
      "\n",
      "после итерации 29\n",
      "Итерация    0   |   разность max_s|V_new(s) - V_old(s)|: 0.01130   |   V(start): 0.785 \n",
      "Количество поменявшихся действий = 0 \n",
      "\n",
      "после итерации 30\n",
      "Итерация    0   |   разность max_s|V_new(s) - V_old(s)|: 0.01073   |   V(start): 0.796 \n",
      "Количество поменявшихся действий = 0 \n",
      "\n",
      "после итерации 31\n",
      "Итерация    0   |   разность max_s|V_new(s) - V_old(s)|: 0.01020   |   V(start): 0.806 \n",
      "Количество поменявшихся действий = 0 \n",
      "\n",
      "после итерации 32\n",
      "Итерация    0   |   разность max_s|V_new(s) - V_old(s)|: 0.00969   |   V(start): 0.816 \n",
      "Количество поменявшихся действий = 0 \n",
      "\n",
      "после итерации 33\n",
      "Итерация    0   |   разность max_s|V_new(s) - V_old(s)|: 0.00920   |   V(start): 0.825 \n",
      "Количество поменявшихся действий = 0 \n",
      "\n",
      "после итерации 34\n",
      "Итерация    0   |   разность max_s|V_new(s) - V_old(s)|: 0.00874   |   V(start): 0.834 \n",
      "Количество поменявшихся действий = 0 \n",
      "\n",
      "после итерации 35\n",
      "Итерация    0   |   разность max_s|V_new(s) - V_old(s)|: 0.00830   |   V(start): 0.842 \n",
      "Количество поменявшихся действий = 0 \n",
      "\n",
      "после итерации 36\n",
      "Итерация    0   |   разность max_s|V_new(s) - V_old(s)|: 0.00789   |   V(start): 0.850 \n",
      "Количество поменявшихся действий = 0 \n",
      "\n",
      "после итерации 37\n",
      "Итерация    0   |   разность max_s|V_new(s) - V_old(s)|: 0.00749   |   V(start): 0.858 \n",
      "Количество поменявшихся действий = 0 \n",
      "\n",
      "после итерации 38\n",
      "Итерация    0   |   разность max_s|V_new(s) - V_old(s)|: 0.00712   |   V(start): 0.865 \n",
      "Количество поменявшихся действий = 0 \n",
      "\n",
      "после итерации 39\n",
      "Итерация    0   |   разность max_s|V_new(s) - V_old(s)|: 0.00676   |   V(start): 0.871 \n",
      "Количество поменявшихся действий = 0 \n",
      "\n",
      "после итерации 40\n",
      "Итерация    0   |   разность max_s|V_new(s) - V_old(s)|: 0.00643   |   V(start): 0.878 \n",
      "Количество поменявшихся действий = 0 \n",
      "\n",
      "после итерации 41\n",
      "Итерация    0   |   разность max_s|V_new(s) - V_old(s)|: 0.00610   |   V(start): 0.884 \n",
      "Количество поменявшихся действий = 0 \n",
      "\n",
      "после итерации 42\n",
      "Итерация    0   |   разность max_s|V_new(s) - V_old(s)|: 0.00580   |   V(start): 0.890 \n",
      "Количество поменявшихся действий = 0 \n",
      "\n",
      "после итерации 43\n",
      "Итерация    0   |   разность max_s|V_new(s) - V_old(s)|: 0.00551   |   V(start): 0.895 \n",
      "Количество поменявшихся действий = 0 \n",
      "\n",
      "после итерации 44\n",
      "Итерация    0   |   разность max_s|V_new(s) - V_old(s)|: 0.00523   |   V(start): 0.901 \n",
      "Количество поменявшихся действий = 0 \n",
      "\n",
      "после итерации 45\n",
      "Итерация    0   |   разность max_s|V_new(s) - V_old(s)|: 0.00497   |   V(start): 0.906 \n",
      "Количество поменявшихся действий = 0 \n",
      "\n",
      "после итерации 46\n",
      "Итерация    0   |   разность max_s|V_new(s) - V_old(s)|: 0.00472   |   V(start): 0.910 \n",
      "Количество поменявшихся действий = 0 \n",
      "\n",
      "после итерации 47\n",
      "Итерация    0   |   разность max_s|V_new(s) - V_old(s)|: 0.00449   |   V(start): 0.915 \n",
      "Количество поменявшихся действий = 0 \n",
      "\n",
      "после итерации 48\n",
      "Итерация    0   |   разность max_s|V_new(s) - V_old(s)|: 0.00426   |   V(start): 0.919 \n",
      "Количество поменявшихся действий = 0 \n",
      "\n",
      "после итерации 49\n",
      "Итерация    0   |   разность max_s|V_new(s) - V_old(s)|: 0.00405   |   V(start): 0.923 \n",
      "Количество поменявшихся действий = 0 \n",
      "\n",
      "после итерации 50\n",
      "Итерация    0   |   разность max_s|V_new(s) - V_old(s)|: 0.00385   |   V(start): 0.927 \n",
      "Количество поменявшихся действий = 0 \n",
      "\n",
      "после итерации 51\n",
      "Итерация    0   |   разность max_s|V_new(s) - V_old(s)|: 0.00365   |   V(start): 0.931 \n",
      "Количество поменявшихся действий = 0 \n",
      "\n",
      "после итерации 52\n",
      "Итерация    0   |   разность max_s|V_new(s) - V_old(s)|: 0.00347   |   V(start): 0.934 \n",
      "Количество поменявшихся действий = 0 \n",
      "\n",
      "после итерации 53\n",
      "Итерация    0   |   разность max_s|V_new(s) - V_old(s)|: 0.00330   |   V(start): 0.937 \n",
      "Количество поменявшихся действий = 0 \n",
      "\n",
      "после итерации 54\n",
      "Итерация    0   |   разность max_s|V_new(s) - V_old(s)|: 0.00313   |   V(start): 0.940 \n",
      "Количество поменявшихся действий = 0 \n",
      "\n",
      "CPU times: user 7.54 ms, sys: 963 µs, total: 8.5 ms\n",
      "Wall time: 8.5 ms\n"
     ]
    }
   ],
   "source": [
    "%%time\n",
    "\n",
    "gamma = 0.95\n",
    "state_values = {s: 0 for s in mdp.get_all_states()}\n",
    "policy = np.array([get_optimal_action(mdp, state_values, state, gamma)\n",
    "                   for state in sorted(mdp.get_all_states())])\n",
    "\n",
    "for i in range(55):\n",
    "    print(\"после итерации %i\" % i)\n",
    "    state_values = value_iteration(mdp, state_values, num_iter=1, gamma=gamma)\n",
    "\n",
    "    new_policy = np.array([get_optimal_action(mdp, state_values, state, gamma)\n",
    "                           for state in sorted(mdp.get_all_states())])\n",
    "\n",
    "    n_changes = (policy != new_policy).sum()\n",
    "    print(\"Количество поменявшихся действий = %i \\n\" % n_changes)\n",
    "    policy = new_policy\n",
    "\n",
    "# просьба игнорировать отладочный вывод \"Итерация 0\" на каждом шаге"
   ]
  },
  {
   "cell_type": "code",
   "execution_count": null,
   "metadata": {},
   "outputs": [],
   "source": []
  }
 ],
 "metadata": {
  "kernelspec": {
   "display_name": "Python 3 (ipykernel)",
   "language": "python",
   "name": "python3"
  },
  "language_info": {
   "codemirror_mode": {
    "name": "ipython",
    "version": 3
   },
   "file_extension": ".py",
   "mimetype": "text/x-python",
   "name": "python",
   "nbconvert_exporter": "python",
   "pygments_lexer": "ipython3",
   "version": "3.10.13"
  }
 },
 "nbformat": 4,
 "nbformat_minor": 2
}
